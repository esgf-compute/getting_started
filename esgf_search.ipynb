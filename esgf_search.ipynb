{
 "cells": [
  {
   "cell_type": "markdown",
   "metadata": {},
   "source": [
    "# ESGF Data Search\n",
    "This notebook will provide the most basic search capabilities. Please reference the [documentation](https://esgf.github.io/esg-search/ESGF_Search_RESTful_API.html) for addition details."
   ]
  },
  {
   "cell_type": "code",
   "execution_count": null,
   "metadata": {},
   "outputs": [],
   "source": [
    "import requests\n",
    "\n",
    "import pandas\n",
    "from ipywidgets import widgets\n",
    "from IPython.display import display\n",
    "\n",
    "# Need to set the compute_token, see getting_started notebook\n",
    "compute_token = 'huuhCnol42KQUgO304psAC9tVh4jysnCSu73Axa2iRrvhVJtYpaf9Qu4m74msPTF'\n",
    "\n",
    "pandas.set_option('display.max_columns', None)\n",
    "pandas.set_option('display.max_rows', None)"
   ]
  },
  {
   "cell_type": "code",
   "execution_count": null,
   "metadata": {},
   "outputs": [],
   "source": [
    "base_url = 'https://esgf-node.llnl.gov/esg-search/search'"
   ]
  },
  {
   "cell_type": "code",
   "execution_count": null,
   "metadata": {},
   "outputs": [],
   "source": [
    "# Search configuration\n",
    "params = {\n",
    "    'format': 'application/solr+json',\n",
    "    'query': '*',\n",
    "    'latest': 'true',\n",
    "    'type': 'File',\n",
    "    'limit': '10000',\n",
    "    # Everything below appears as facets in CoG\n",
    "    'variable': 'tas',\n",
    "    'data_node': 'aims3.llnl.gov',\n",
    "    'project': 'CMIP6',\n",
    "    'frequency': 'mon',\n",
    "    'experiment_id': 'hist-piNTCF',\n",
    "}"
   ]
  },
  {
   "cell_type": "code",
   "execution_count": null,
   "metadata": {},
   "outputs": [],
   "source": [
    "# Note not working at the moment\n",
    "def get_facets():\n",
    "    facet_params = {\n",
    "        'format': 'application/solr+json',\n",
    "        'project': 'CMIP6', # Enable to get project specific facets\n",
    "        'facets': '*',\n",
    "        'limit': '0',\n",
    "    }\n",
    "\n",
    "    result = requests.get(base_url, params=facet_params, timeout=5*60)\n",
    "\n",
    "    if not result.ok:\n",
    "        display(widgets.HTML(result.text))\n",
    "    else:\n",
    "        output = result.json()"
   ]
  },
  {
   "cell_type": "code",
   "execution_count": null,
   "metadata": {},
   "outputs": [],
   "source": [
    "filter_columns = ['id', 'version', 'activity_id', 'datetime_start', 'datetime_stop', 'frequency', 'grid', 'experiment_id', 'source_id', 'institution_id', 'url', 'variant_label', 'retracted']\n",
    "\n",
    "def get_opendap_url(x):\n",
    "    for item in x:\n",
    "        if 'opendap' in item.lower():\n",
    "            return item.split('|')[0].replace('.html', '')\n",
    "        \n",
    "def format_column(x):\n",
    "    if x.name == 'url':\n",
    "        return [get_opendap_url(y) for y in x]\n",
    "    elif isinstance(x[0], list):\n",
    "        return [y[0] for y in x]\n",
    "    return x\n",
    "        \n",
    "result = requests.get(base_url, params=params)\n",
    "\n",
    "if not result.ok:\n",
    "    display(widgets.HTML(result.text))\n",
    "else:\n",
    "    output = result.json()\n",
    "    docs = output['response']['docs']\n",
    "    # Use pandas to display results\n",
    "    df = pandas.DataFrame.from_dict(docs)\n",
    "    #  Filter columns we're interested in\n",
    "    df = df.filter(filter_columns)\n",
    "    # Format values in rows\n",
    "    df = df.apply(format_column)\n",
    "    display(df)"
   ]
  },
  {
   "cell_type": "code",
   "execution_count": null,
   "metadata": {},
   "outputs": [],
   "source": [
    "# Filter from search results files we're interested in\n",
    "miroc6 = df[(df.source_id=='MIROC6') & (df.variant_label=='r1i1p1f1')]\n",
    "miroc6"
   ]
  },
  {
   "cell_type": "code",
   "execution_count": null,
   "metadata": {},
   "outputs": [],
   "source": [
    "# Open the sources so we can inspect the time axis\n",
    "import cdms2\n",
    "files = [cdms2.open(x) for x in miroc6.url]\n",
    "time = pandas.Series([str(y) for x in files for y in x['tas'].getTime().asComponentTime()])\n",
    "time.index = pandas.DatetimeIndex(time)\n",
    "subset = time['1850-01-16':'1859-12-16']\n",
    "print('Start: ', subset[0], 'Stop: ', subset[-1], 'Length: ', len(subset))"
   ]
  },
  {
   "cell_type": "code",
   "execution_count": null,
   "metadata": {},
   "outputs": [],
   "source": [
    "# Use remote compute resources to aggregate and subset data\n",
    "import cwt\n",
    "client = cwt.WPSClient('https://aims2.llnl.gov/wps/', compute_token=compute_token)\n",
    "\n",
    "# Define aggregation process\n",
    "aggregate = client.process_by_name('CDAT.aggregate')\n",
    "aggregate.add_inputs(*[cwt.Variable(x, 'tas') for x in miroc6.url])\n",
    "aggregate.set_domain(cwt.Domain(time=('1850-1-1', '1860-1-16'), lat=(-45, 45)))\n",
    "\n",
    "# Execute process on remote resources\n",
    "client.execute(aggregate)\n",
    "\n",
    "# Wait for the process to complete, will print status messages\n",
    "aggregate.wait(sleep=1)\n",
    "\n",
    "print('Output', aggregate.output.uri, aggregate.output.var_name)"
   ]
  },
  {
   "cell_type": "code",
   "execution_count": null,
   "metadata": {},
   "outputs": [],
   "source": [
    "# Open the result with CDMS2\n",
    "import cdms2\n",
    "\n",
    "f = cdms2.open(aggregate.output.uri)\n",
    "\n",
    "output_var = f[aggregate.output.var_name]\n",
    "\n",
    "output_var.shape"
   ]
  },
  {
   "cell_type": "code",
   "execution_count": null,
   "metadata": {},
   "outputs": [],
   "source": []
  }
 ],
 "metadata": {
  "kernelspec": {
   "display_name": "Python 3",
   "language": "python",
   "name": "python3"
  },
  "language_info": {
   "codemirror_mode": {
    "name": "ipython",
    "version": 3
   },
   "file_extension": ".py",
   "mimetype": "text/x-python",
   "name": "python",
   "nbconvert_exporter": "python",
   "pygments_lexer": "ipython3",
   "version": "3.7.3"
  },
  "selected_variables": [],
  "vcdat_file_path": "",
  "vcdat_loaded_variables": [],
  "vcdat_variable_info": {}
 },
 "nbformat": 4,
 "nbformat_minor": 4
}
