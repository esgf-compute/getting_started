{
 "cells": [
  {
   "cell_type": "markdown",
   "metadata": {},
   "source": [
    "# Getting Started\n",
    "Welcome to your JupyterLab instance.\n",
    "\n",
    "Below you will find a small introduction to the features present.\n",
    "\n",
    "Please refer to the [FAQ](#FAQ) below. If you cannot find an answer there please feel free to create an [issue](https://github.com/esgf-nimbus/getting_started/issues/new?labels=bug,getting-started).\n",
    "\n",
    "All [suggestions](https://github.com/esgf-nimbus/getting_started/issues/new?labels=suggestion,getting-started) are welcome to improve this environment."
   ]
  },
  {
   "cell_type": "markdown",
   "metadata": {},
   "source": [
    "# Specs\n",
    "* 16 CPUs\n",
    "* 32 GB of memory"
   ]
  },
  {
   "cell_type": "markdown",
   "metadata": {},
   "source": [
    "# Storage\n",
    "\n",
    "In this JupyterLab instance you're provided with access personal [persistent](#User) storage, [shared](#Shared) data between all JupyterLab users and local [ESGF data](#ESGF-Data).\n",
    "\n",
    "#### User\n",
    "Your home directory is 10GB of read/write storage that is persistent. Any conda environments created will be stored in `~/conda-envs`.\n",
    "\n",
    "#### Shared\n",
    "\n",
    "`/scratch` is 100GB of shared storage between all users, this mount is read/write.\n",
    "\n",
    "#### ESGF Data\n",
    "\n",
    "`/p` provides access to the GPFS `css03` and `user_pub` directories, these mounts are read-only.\n",
    "\n",
    "Local CMIP6 data can be found here `/p/css03/esgf_publish/CMIP6` and CMIP5 can be found here `/p/css03/esgf_publish/cmip5`."
   ]
  },
  {
   "cell_type": "markdown",
   "metadata": {},
   "source": [
    "# JupyterLab\n",
    "\n",
    "Below are some links with user guides for both JupyterLab and Jupyter Notebooks.\n",
    "\n",
    "* [JupyterLab](https://jupyterlab.readthedocs.io/en/stable/user/interface.html#the-jupyterlab-interface)\n",
    "* [Jupyter Notebook](https://jupyter-notebook.readthedocs.io/en/stable/notebook.html#notebook-user-interface)\n",
    "\n",
    "You can also find [video](#Videos) overviews below."
   ]
  },
  {
   "cell_type": "markdown",
   "metadata": {},
   "source": [
    "# JupyterLab and Conda\n",
    "\n",
    "Below you will find the steps to create new conda [environments](https://docs.conda.io/projects/conda/en/latest/user-guide/tasks/manage-environments.html).\n",
    "\n",
    "1. Open terminal.\n",
    "2. `conda init bash; . ~/.bashrc`\n",
    "2. `conda create -n <name> ... <channels> ... <packages> ipykernel`\n",
    "  * You must include the **ipykernel** package.\n",
    "3. `conda activate <name>`\n",
    "4. `python -m ipykernel install --user --name <name>`\n",
    "\n",
    "You use the new kernel from the \"Launcher\" or new notebooks. It will not show up in notebooks that are currently opened. If you close and open the notebook it will become selectable."
   ]
  },
  {
   "cell_type": "markdown",
   "metadata": {},
   "source": [
    "# Videos"
   ]
  },
  {
   "cell_type": "code",
   "execution_count": 1,
   "metadata": {
    "jupyter": {
     "source_hidden": true
    }
   },
   "outputs": [
    {
     "data": {
      "text/html": [
       "\n",
       "        <iframe\n",
       "            width=\"400\"\n",
       "            height=\"300\"\n",
       "            src=\"https://www.youtube.com/embed/RFabWieskak\"\n",
       "            frameborder=\"0\"\n",
       "            allowfullscreen\n",
       "        ></iframe>\n",
       "        "
      ],
      "text/plain": [
       "<IPython.lib.display.YouTubeVideo at 0x7ffff4198f50>"
      ]
     },
     "metadata": {},
     "output_type": "display_data"
    },
    {
     "data": {
      "text/html": [
       "\n",
       "        <iframe\n",
       "            width=\"400\"\n",
       "            height=\"300\"\n",
       "            src=\"https://www.youtube.com/embed/HW29067qVWk?start=391\"\n",
       "            frameborder=\"0\"\n",
       "            allowfullscreen\n",
       "        ></iframe>\n",
       "        "
      ],
      "text/plain": [
       "<IPython.lib.display.YouTubeVideo at 0x7ffff41fae50>"
      ]
     },
     "metadata": {},
     "output_type": "display_data"
    }
   ],
   "source": [
    "from IPython.display import YouTubeVideo\n",
    "from IPython.display import display\n",
    "display(YouTubeVideo('RFabWieskak'))\n",
    "display(YouTubeVideo('HW29067qVWk', start=391))"
   ]
  },
  {
   "cell_type": "markdown",
   "metadata": {},
   "source": [
    "# Links\n",
    "* [LLNL ESGF WPS](https://aims2.llnl.gov/)\n",
    "* [ESGF Compute API](https://github.com/ESGF/esgf-compute-api)\n",
    "* [ESGF Compute API Notebooks](https://github.com/ESGF/esgf-compute-api/tree/devel/examples)\n",
    "* [JupyterLab](https://jupyterlab.readthedocs.io/en/stable/user/interface.html#the-jupyterlab-interface)\n",
    "* [Jupyter Notebook](https://jupyter-notebook.readthedocs.io/en/stable/notebook.html#notebook-user-interface)"
   ]
  },
  {
   "cell_type": "markdown",
   "metadata": {},
   "source": [
    "# FAQ\n",
    "\n",
    "* Terminal shells are not **sourcing** `~/.bashrc` or `~/.bash_profile`.\n",
    "    > This is a known issue, shells are forced as non-interactive. (https://github.com/jupyterlab/jupyterlab/issues/8462)\n",
    "* I created a **conda environment** but I cannot select it as a **kernel** in my notebook.\n",
    "    > This is a side effect of conda and jupyter notebooks. See [JupyterLab And Conda](#JupyterLab-and-Conda) for instructions to get JupyterNotebooks to recognize conda environments.\n",
    "\n",
    "    > If you've already followed the [JupyterLab and Conda](#JupyterLab-and-Conda) instructions you may need to close and open the notebook.\n",
    "* `conda activate <environment>` produces the following **error**:\n",
    "    ```bash\n",
    "      CommandNotFoundError: Your shell has not been properly configured to use 'conda activate'.\n",
    "    To initialize your shell, run\n",
    "\n",
    "        $ conda init <SHELL_NAME>\n",
    "\n",
    "    Currently supported shells are:\n",
    "      - bash\n",
    "      - fish\n",
    "      - tcsh\n",
    "      - xonsh\n",
    "      - zsh\n",
    "      - powershell\n",
    "\n",
    "    See 'conda init --help' for more information and options.\n",
    "\n",
    "    IMPORTANT: You may need to close and restart your shell after running 'conda init'.\n",
    "    ```\n",
    "    > Since shells are non-interactive you will need to run `conda init bash` followed by `. ~/.bashrc`. You will need to run `. ~/.bashrc` everytime you open a new shell.\n",
    "* I have an issue and didn't find an answer here.\n",
    "    > Feel free to report the [issue](https://github.com/esgf-nimbus/getting_started/issues/new?labels=bug,getting-started).\n",
    "* I have an idea to make this experience better!\n",
    "    > Please make a suggestion [here](https://github.com/esgf-nimbus/getting_started/issues/new?labels=suggestion,getting-started)."
   ]
  },
  {
   "cell_type": "code",
   "execution_count": null,
   "metadata": {},
   "outputs": [],
   "source": []
  }
 ],
 "metadata": {
  "kernelspec": {
   "display_name": "Python 3",
   "language": "python",
   "name": "python3"
  },
  "language_info": {
   "codemirror_mode": {
    "name": "ipython",
    "version": 3
   },
   "file_extension": ".py",
   "mimetype": "text/x-python",
   "name": "python",
   "nbconvert_exporter": "python",
   "pygments_lexer": "ipython3",
   "version": "3.7.6"
  }
 },
 "nbformat": 4,
 "nbformat_minor": 4
}
