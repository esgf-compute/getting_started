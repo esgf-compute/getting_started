{
 "cells": [
  {
   "cell_type": "markdown",
   "metadata": {},
   "source": [
    "# Welcome to Nimbus\n",
    "This is your personal JupyterLab instance.\n",
    "\n",
    "Just press **shift-enter** to follow the getting started guide."
   ]
  },
  {
   "cell_type": "code",
   "execution_count": null,
   "metadata": {},
   "outputs": [],
   "source": [
    "import os\n",
    "print('You\\'re guaranteed %r CPUs and %r GB of memory' % (os.environ['CPU_GUARANTEE'], round(int(os.environ['MEM_GUARANTEE'])/1.024E9, 2)))\n",
    "print('You\\'re limited to %r CPUs and %r GB of memory' % (os.environ['CPU_LIMIT'], round(int(os.environ['MEM_LIMIT'])/1.024e9, 2)))"
   ]
  },
  {
   "cell_type": "markdown",
   "metadata": {},
   "source": [
    "## Resources\n",
    "A small introduction video to JupyterLab."
   ]
  },
  {
   "cell_type": "code",
   "execution_count": 1,
   "metadata": {},
   "outputs": [
    {
     "data": {
      "text/html": [
       "\n",
       "        <iframe\n",
       "            width=\"400\"\n",
       "            height=\"300\"\n",
       "            src=\"https://www.youtube.com/embed/ctOM-Gza04Y\"\n",
       "            frameborder=\"0\"\n",
       "            allowfullscreen\n",
       "        ></iframe>\n",
       "        "
      ],
      "text/plain": [
       "<IPython.lib.display.YouTubeVideo at 0x7ffff10691d0>"
      ]
     },
     "execution_count": 1,
     "metadata": {},
     "output_type": "execute_result"
    }
   ],
   "source": [
    "from IPython.display import YouTubeVideo\n",
    "YouTubeVideo('ctOM-Gza04Y')"
   ]
  },
  {
   "cell_type": "markdown",
   "metadata": {},
   "source": [
    "Let's continue with a small tour of the environment."
   ]
  },
  {
   "cell_type": "markdown",
   "metadata": {},
   "source": [
    "## Storage\n",
    "Here we'll go over the available storage."
   ]
  },
  {
   "cell_type": "markdown",
   "metadata": {},
   "source": [
    "### Personal\n",
    "You've been allocated 10GB of persistent storage which has been mounted to your home directory (/home/jovyan)."
   ]
  },
  {
   "cell_type": "code",
   "execution_count": null,
   "metadata": {},
   "outputs": [],
   "source": [
    "!ls -l /home/jovyan"
   ]
  },
  {
   "cell_type": "markdown",
   "metadata": {},
   "source": [
    "### Shared\n",
    "You also have access to 100GB of shared storage (/scratch). Please be aware that this is shared space and anything older than 1 week will automatically be cleared out."
   ]
  },
  {
   "cell_type": "code",
   "execution_count": null,
   "metadata": {},
   "outputs": [],
   "source": [
    "!ls -l /scratch"
   ]
  },
  {
   "cell_type": "markdown",
   "metadata": {},
   "source": [
    "### Other\n",
    "Finally you have access to css03 and user_pub, these mounts are read-only."
   ]
  },
  {
   "cell_type": "code",
   "execution_count": null,
   "metadata": {},
   "outputs": [],
   "source": [
    "!ls -l /p/css03"
   ]
  },
  {
   "cell_type": "code",
   "execution_count": null,
   "metadata": {},
   "outputs": [],
   "source": [
    "!ls -l /p/user_pub"
   ]
  },
  {
   "cell_type": "markdown",
   "metadata": {},
   "source": [
    "## Software\n",
    "Here we'll cover your software options."
   ]
  },
  {
   "cell_type": "markdown",
   "metadata": {},
   "source": [
    "### Conda\n",
    "You have access to conda as a software management tool.\n",
    "\n",
    "**NOTE: Anything installed in the base conda environment will not persist between sessions.**\n",
    "\n",
    "As an example let's create a new environment based on python 3.7 and gcc.\n",
    "\n",
    "**NOTE: For a new conda environment to be available in a Jupyter Lab you must install the \"ipykernel\" package.**"
   ]
  },
  {
   "cell_type": "code",
   "execution_count": null,
   "metadata": {},
   "outputs": [],
   "source": [
    "!conda create -n test -c conda-forge -y python=3.7 ipykernel gcc_linux-64"
   ]
  },
  {
   "cell_type": "markdown",
   "metadata": {},
   "source": [
    "**NOTE: To use the new gcc you will need to activate the conda environment through a terminal instance.**\n",
    "\n",
    "To use the new conda environment in a Jupyter Notebook you have two options:\n",
    "1. Choose the Hub menu at the top of this page and click \"Control Panel\". On the new page you'll need to click \"Stop My Server\" and then \"Start My Server\".\n",
    "2. Run the following python script to load the new environment."
   ]
  },
  {
   "cell_type": "code",
   "execution_count": null,
   "metadata": {},
   "outputs": [],
   "source": [
    "!python -c \"from nb_conda_kernels import CondaKernelSpecManager; m = CondaKernelSpecManager(); m.find_kernel_specs()\""
   ]
  },
  {
   "cell_type": "markdown",
   "metadata": {},
   "source": [
    "In the upper right hand corner you can click the button seen below to select the new kernel."
   ]
  },
  {
   "cell_type": "markdown",
   "metadata": {},
   "source": [
    "![kernel](https://raw.githubusercontent.com/esgf-nimbus/getting_started/master/img/kernel.png)"
   ]
  },
  {
   "cell_type": "markdown",
   "metadata": {},
   "source": [
    "Now select the \"conda env:test\" kernel."
   ]
  },
  {
   "cell_type": "markdown",
   "metadata": {},
   "source": [
    "![selection](https://raw.githubusercontent.com/esgf-nimbus/getting_started/master/img/kernel_selection.png)"
   ]
  },
  {
   "cell_type": "markdown",
   "metadata": {},
   "source": [
    "Using the Jupyter Lab terminal you can activate the conda environment and install additional software.\n",
    "\n",
    "```bash\n",
    "conda activate test\n",
    "\n",
    "conda install -c conda-forge cdms2\n",
    "```\n",
    "\n",
    "You can also do this from within a Notebook.\n",
    "\n",
    "**NOTE: This will run everytime the cell runs.**"
   ]
  },
  {
   "cell_type": "code",
   "execution_count": null,
   "metadata": {},
   "outputs": [],
   "source": [
    "!conda install -n test -c conda-forge -c cdat -y esgf-compute-api"
   ]
  },
  {
   "cell_type": "markdown",
   "metadata": {},
   "source": [
    "Finally you can remove the environment but first if you activated in this notebook you must choose another e.g. \"root\"."
   ]
  },
  {
   "cell_type": "code",
   "execution_count": null,
   "metadata": {},
   "outputs": [],
   "source": [
    "!conda env remove -n test -y"
   ]
  },
  {
   "cell_type": "markdown",
   "metadata": {},
   "source": [
    "### Host\n",
    "This image is debian based thus you have access to apt-get.\n",
    "\n",
    "**NOTE: Anything installed this way will not persist between sessions unless installed in the users home directory.**"
   ]
  },
  {
   "cell_type": "code",
   "execution_count": null,
   "metadata": {},
   "outputs": [],
   "source": []
  }
 ],
 "metadata": {
  "kernelspec": {
   "display_name": "Python [conda env:root] *",
   "language": "python",
   "name": "conda-root-py"
  },
  "language_info": {
   "codemirror_mode": {
    "name": "ipython",
    "version": 3
   },
   "file_extension": ".py",
   "mimetype": "text/x-python",
   "name": "python",
   "nbconvert_exporter": "python",
   "pygments_lexer": "ipython3",
   "version": "3.7.1"
  }
 },
 "nbformat": 4,
 "nbformat_minor": 2
}
