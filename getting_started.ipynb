{
 "cells": [
  {
   "cell_type": "markdown",
   "metadata": {},
   "source": [
    "# Getting Started\n",
    "Welcome to your JupyterLab instance.\n",
    "\n",
    "Please report any [issues](https://github.com/esgf-nimbus/getting_started/issues/new?labels=bug,getting-started) or [suggestions](https://github.com/esgf-nimbus/getting_started/issues/new?labels=suggestion,getting-started) for this Jupyter Notebook."
   ]
  },
  {
   "cell_type": "markdown",
   "metadata": {},
   "source": [
    "## Specs\n",
    "* 16 CPUs\n",
    "* 32 GB of memory"
   ]
  },
  {
   "cell_type": "markdown",
   "metadata": {},
   "source": [
    "## Storage\n",
    "\n",
    "In this JupyterLab instance you're provided with access personal [persistent](#User) storage, [shared](#Shared) data between all JupyterLab users and local [ESGF data](#ESGF-Data).\n",
    "\n",
    "### User\n",
    "Your home directory is 10GB of read/write storage that is persistent.\n",
    "\n",
    "### Shared\n",
    "\n",
    "`/scratch` is 100GB of shared storage between all users, this mount is read/write.\n",
    "\n",
    "### ESGF Data\n",
    "\n",
    "`/p` provides access to the GPFS `css03` and `user_pub` directories, these mounts are read-only.\n",
    "\n",
    "Local CMIP6 data can be found here `/p/css03/esgf_publish/CMIP6` and CMIP5 can be found here `/p/css03/esgf_publish/cmip5`."
   ]
  },
  {
   "cell_type": "markdown",
   "metadata": {},
   "source": [
    "## JupyterLab\n",
    "\n",
    "Below are some links with user guides for both JupyterLab and Jupyter Notebooks.\n",
    "\n",
    "* [JupyterLab](https://jupyterlab.readthedocs.io/en/stable/user/interface.html#the-jupyterlab-interface)\n",
    "* [Jupyter Notebook](https://jupyter-notebook.readthedocs.io/en/stable/notebook.html#notebook-user-interface)\n",
    "\n",
    "You can also find a [video](#Videos) overview below."
   ]
  },
  {
   "cell_type": "markdown",
   "metadata": {},
   "source": [
    "### JupyterLab and Conda\n",
    "\n",
    "If you plan on creating new Conda [environments](https://docs.conda.io/projects/conda/en/latest/user-guide/tasks/manage-environments.html) to use in Jupyter [notebooks](https://jupyter-notebook.readthedocs.io/en/stable/notebook.html#notebook-user-interface), you must install the `ipykernel` package for Jupyter to recognize the Conda [environment](https://docs.conda.io/projects/conda/en/latest/user-guide/tasks/manage-environments.html) as a possible kernel choice.\n",
    "\n",
    "#### Example\n",
    "`conda create -n matplotlib -c conda-forge cdms2 matplotlib ipykernel`"
   ]
  },
  {
   "cell_type": "markdown",
   "metadata": {},
   "source": [
    "## Scripts\n",
    "[ESGF Search](./esgf_search.ipynb)"
   ]
  },
  {
   "cell_type": "markdown",
   "metadata": {},
   "source": [
    "## Videos"
   ]
  },
  {
   "cell_type": "code",
   "execution_count": 1,
   "metadata": {
    "jupyter": {
     "source_hidden": true
    }
   },
   "outputs": [
    {
     "data": {
      "text/html": [
       "\n",
       "        <iframe\n",
       "            width=\"400\"\n",
       "            height=\"300\"\n",
       "            src=\"https://www.youtube.com/embed/RFabWieskak\"\n",
       "            frameborder=\"0\"\n",
       "            allowfullscreen\n",
       "        ></iframe>\n",
       "        "
      ],
      "text/plain": [
       "<IPython.lib.display.YouTubeVideo at 0x7ffff09ec278>"
      ]
     },
     "metadata": {},
     "output_type": "display_data"
    },
    {
     "data": {
      "text/html": [
       "\n",
       "        <iframe\n",
       "            width=\"400\"\n",
       "            height=\"300\"\n",
       "            src=\"https://www.youtube.com/embed/HW29067qVWk?start=391\"\n",
       "            frameborder=\"0\"\n",
       "            allowfullscreen\n",
       "        ></iframe>\n",
       "        "
      ],
      "text/plain": [
       "<IPython.lib.display.YouTubeVideo at 0x7ffff12459b0>"
      ]
     },
     "metadata": {},
     "output_type": "display_data"
    }
   ],
   "source": [
    "from IPython.display import YouTubeVideo\n",
    "from IPython.display import display\n",
    "display(YouTubeVideo('RFabWieskak'))\n",
    "display(YouTubeVideo('HW29067qVWk', start=391))"
   ]
  },
  {
   "cell_type": "markdown",
   "metadata": {},
   "source": [
    "## Links\n",
    "* aims2.llnl.gov\n",
    " * [compute](https://aims2.llnl.gov)\n",
    " * [compute login](https://aims2.llnl.gov/login)\n",
    " * [esgf-compute-api](https://github.com/ESGF/esgf-compute-api)\n",
    " * [esgf-compute-api documentation](https://esgf.github.io/esgf-compute-api/docs/build/html/index.html)\n",
    " * [esgf-compute-api example notebooks](https://github.com/ESGF/esgf-compute-api/tree/devel/examples)"
   ]
  },
  {
   "cell_type": "markdown",
   "metadata": {},
   "source": [
    "## Shortcuts"
   ]
  },
  {
   "cell_type": "code",
   "execution_count": 2,
   "metadata": {
    "jupyter": {
     "source_hidden": true
    }
   },
   "outputs": [
    {
     "data": {
      "text/html": [
       "<a href=\"\" data-commandlinker-command=\"terminal:create-new\">Open a Terminal</a>"
      ],
      "text/plain": [
       "<IPython.core.display.HTML object>"
      ]
     },
     "execution_count": 2,
     "metadata": {},
     "output_type": "execute_result"
    }
   ],
   "source": [
    "from IPython.display import HTML\n",
    "HTML('<a href=\"\" data-commandlinker-command=\"terminal:create-new\">Open a Terminal</a>')"
   ]
  },
  {
   "cell_type": "code",
   "execution_count": null,
   "metadata": {},
   "outputs": [],
   "source": []
  }
 ],
 "metadata": {
  "kernelspec": {
   "display_name": "Python 3",
   "language": "python",
   "name": "python3"
  },
  "language_info": {
   "codemirror_mode": {
    "name": "ipython",
    "version": 3
   },
   "file_extension": ".py",
   "mimetype": "text/x-python",
   "name": "python",
   "nbconvert_exporter": "python",
   "pygments_lexer": "ipython3",
   "version": "3.7.3"
  }
 },
 "nbformat": 4,
 "nbformat_minor": 4
}
