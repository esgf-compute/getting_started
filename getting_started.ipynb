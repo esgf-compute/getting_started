{
 "cells": [
  {
   "cell_type": "markdown",
   "metadata": {},
   "source": [
    "# **Please be sure to check out the [FAQ](#FAQ).**\n",
    "## **If you run into any issues please report them [here](https://github.com/esgf-compute/getting_started/issues/new).**"
   ]
  },
  {
   "cell_type": "markdown",
   "metadata": {},
   "source": [
    "# Getting Started\n",
    "Welcome to your JupyterLab instance.\n",
    "\n",
    "Below you will find a small introduction to the features present.\n",
    "\n",
    "Please refer to the [FAQ](#FAQ) below. If you cannot find an answer there please feel free to create an [issue](https://github.com/esgf-nimbus/getting_started/issues/new?labels=bug,getting-started).\n",
    "\n",
    "All [suggestions](https://github.com/esgf-nimbus/getting_started/issues/new?labels=suggestion,getting-started) are welcome to improve this environment."
   ]
  },
  {
   "cell_type": "markdown",
   "metadata": {},
   "source": [
    "# Table of Contents\n",
    "- [Specs](#Specs)\n",
    "- [Storage](#Storage)\n",
    "- [JupyterLab](#JupyterLab)\n",
    "- [JupyterLab and Conda](#JupyterLab-and-Conda)\n",
    "- [Videos](#Videos)\n",
    "- [Links](#Links)\n",
    "- [FAQ](#FAQ)"
   ]
  },
  {
   "cell_type": "markdown",
   "metadata": {},
   "source": [
    "# Specs\n",
    "* 16 CPUs\n",
    "* 32 GB of memory"
   ]
  },
  {
   "cell_type": "markdown",
   "metadata": {},
   "source": [
    "# Storage\n",
    "\n",
    "In this JupyterLab instance you're provided with access personal [persistent](#User) storage, [shared](#Shared) data between all JupyterLab users and local [ESGF data](#ESGF-Data).\n",
    "\n",
    "#### User\n",
    "Your home directory is 10GB of read/write storage that is persistent. Any conda environments created will be stored in `~/conda-envs`.\n",
    "\n",
    "#### Shared\n",
    "\n",
    "`/scratch` is 100GB of shared storage between all users, this mount is read/write.\n",
    "\n",
    "#### ESGF Data\n",
    "\n",
    "`/p` provides access to the GPFS `css03` and `user_pub` directories, these mounts are read-only.\n",
    "\n",
    "Local CMIP6 data can be found here `/p/css03/esgf_publish/CMIP6` and CMIP5 can be found here `/p/css03/esgf_publish/cmip5`."
   ]
  },
  {
   "cell_type": "markdown",
   "metadata": {},
   "source": [
    "# JupyterLab\n",
    "\n",
    "Below are some links with user guides for both JupyterLab and Jupyter Notebooks.\n",
    "\n",
    "* [JupyterLab](https://jupyterlab.readthedocs.io/en/stable/user/interface.html#the-jupyterlab-interface)\n",
    "* [Jupyter Notebook](https://jupyter-notebook.readthedocs.io/en/stable/notebook.html#notebook-user-interface)\n",
    "\n",
    "You can also find [video](#Videos) overviews below."
   ]
  },
  {
   "cell_type": "markdown",
   "metadata": {},
   "source": [
    "# JupyterLab and Conda\n",
    "\n",
    "Below you will find the steps to create new conda [environments](https://docs.conda.io/projects/conda/en/latest/user-guide/tasks/manage-environments.html).\n",
    "\n",
    "1. Open terminal.\n",
    "2. `conda init bash; . ~/.bashrc`\n",
    "2. `conda create -n <name> ... <channels> ... <packages> ipykernel`\n",
    "  * You must include the **ipykernel** package.\n",
    "3. `conda activate <name>`\n",
    "4. `python -m ipykernel install --user --name <name>`\n",
    "\n",
    "You use the new kernel from the \"Launcher\" or new notebooks. It will not show up in notebooks that are currently opened. If you close and open the notebook it will become selectable."
   ]
  },
  {
   "cell_type": "markdown",
   "metadata": {},
   "source": [
    "# Videos"
   ]
  },
  {
   "cell_type": "code",
   "execution_count": 1,
   "metadata": {
    "jupyter": {
     "source_hidden": true
    }
   },
   "outputs": [
    {
     "data": {
      "text/html": [
       "\n",
       "        <iframe\n",
       "            width=\"400\"\n",
       "            height=\"300\"\n",
       "            src=\"https://www.youtube.com/embed/RFabWieskak\"\n",
       "            frameborder=\"0\"\n",
       "            allowfullscreen\n",
       "        ></iframe>\n",
       "        "
      ],
      "text/plain": [
       "<IPython.lib.display.YouTubeVideo at 0x7ffff4198f50>"
      ]
     },
     "metadata": {},
     "output_type": "display_data"
    },
    {
     "data": {
      "text/html": [
       "\n",
       "        <iframe\n",
       "            width=\"400\"\n",
       "            height=\"300\"\n",
       "            src=\"https://www.youtube.com/embed/HW29067qVWk?start=391\"\n",
       "            frameborder=\"0\"\n",
       "            allowfullscreen\n",
       "        ></iframe>\n",
       "        "
      ],
      "text/plain": [
       "<IPython.lib.display.YouTubeVideo at 0x7ffff41fae50>"
      ]
     },
     "metadata": {},
     "output_type": "display_data"
    }
   ],
   "source": [
    "from IPython.display import YouTubeVideo\n",
    "from IPython.display import display\n",
    "display(YouTubeVideo('RFabWieskak'))\n",
    "display(YouTubeVideo('HW29067qVWk', start=391))"
   ]
  },
  {
   "cell_type": "markdown",
   "metadata": {},
   "source": [
    "# Links\n",
    "* [LLNL ESGF WPS](https://aims2.llnl.gov/)\n",
    "* [ESGF Compute API](https://github.com/ESGF/esgf-compute-api)\n",
    "* [ESGF Compute API Notebooks](https://github.com/ESGF/esgf-compute-api/tree/devel/examples)\n",
    "* [JupyterLab](https://jupyterlab.readthedocs.io/en/stable/user/interface.html#the-jupyterlab-interface)\n",
    "* [Jupyter Notebook](https://jupyter-notebook.readthedocs.io/en/stable/notebook.html#notebook-user-interface)"
   ]
  },
  {
   "cell_type": "markdown",
   "metadata": {},
   "source": [
    "# FAQ\n",
    "\n",
    "* Terminal is not **sourcing** `~/.bashrc`.\n",
    "    > The terminal is an interactive login shell and only sources `~/.bash_profile`\n",
    "* I created a **conda environment** but I cannot select it as a **kernel** in my notebook.\n",
    "    > This is a side effect of conda and jupyter notebooks. See [JupyterLab And Conda](#JupyterLab-and-Conda) for instructions to get Notebooks to recognize conda environments.\n",
    "\n",
    "    > If you've already followed the [JupyterLab and Conda](#JupyterLab-and-Conda) instructions you may need to refresh the browser.\n",
    "* `conda activate <environment>` produces the following **error**:\n",
    "    ```shell\n",
    "    CommandNotFoundError: Your shell has not been properly configured to use 'conda activate'.\n",
    "    To initialize your shell, run\n",
    "\n",
    "        $ conda init <SHELL_NAME>\n",
    "\n",
    "    Currently supported shells are:\n",
    "      - bash\n",
    "      - fish\n",
    "      - tcsh\n",
    "      - xonsh\n",
    "      - zsh\n",
    "      - powershell\n",
    "\n",
    "    See 'conda init --help' for more information and options.\n",
    "\n",
    "    IMPORTANT: You may need to close and restart your shell after running 'conda init'.\n",
    "    ```\n",
    "    > The terminal is an interactive login shell, after running `conda init bash` you'll need to source `~/.bashrc` in your `~/.bash_profile`.\n",
    "* My conda environments disappear between sessions.\n",
    "    > Check your `~/.condarc` it should containt the following:\n",
    "    ```yaml\n",
    "    envs_dirs:\n",
    "      - /home/jovyan/conda-envs\n",
    "    ```\n",
    "    > If this is not present then your conda environments will not be persisted.\n",
    "* I have an issue and didn't find an answer here.\n",
    "    > Feel free to report the [issue](https://github.com/esgf-nimbus/getting_started/issues/new?labels=bug,getting-started).\n",
    "* I have an idea to make this experience better!\n",
    "    > Please make a suggestion [here](https://github.com/esgf-nimbus/getting_started/issues/new?labels=suggestion,getting-started)."
   ]
  },
  {
   "cell_type": "code",
   "execution_count": null,
   "metadata": {},
   "outputs": [],
   "source": []
  }
 ],
 "metadata": {
  "kernelspec": {
   "display_name": "Python 3",
   "language": "python",
   "name": "python3"
  },
  "language_info": {
   "codemirror_mode": {
    "name": "ipython",
    "version": 3
   },
   "file_extension": ".py",
   "mimetype": "text/x-python",
   "name": "python",
   "nbconvert_exporter": "python",
   "pygments_lexer": "ipython3",
   "version": "3.8.6"
  }
 },
 "nbformat": 4,
 "nbformat_minor": 4
}
