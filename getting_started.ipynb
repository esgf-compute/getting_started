{
 "cells": [
  {
   "cell_type": "markdown",
   "metadata": {},
   "source": [
    "# **Please be sure to check out the [FAQ](#FAQ).**\n",
    "## **If you run into any issues please report them [here](https://github.com/esgf-compute/getting_started/issues/new).**"
   ]
  },
  {
   "cell_type": "markdown",
   "metadata": {},
   "source": [
    "# **What's new?**\n",
    "- JupyterLab updated to 3.0.11 [Changelog](https://jupyterlab.readthedocs.io/en/stable/getting_started/changelog.html#v3-0)\n",
    "- Mamba added, Conda reimplemented for performance [Documentation](https://mamba.readthedocs.io/en/latest/) & [GitHub](https://github.com/mamba-org/mamba)\n",
    "- Added example [notebooks](#Notebooks)"
   ]
  },
  {
   "cell_type": "markdown",
   "metadata": {},
   "source": [
    "# Getting Started\n",
    "Welcome to your JupyterLab instance.\n",
    "\n",
    "Below you will find a small introduction to the features present.\n",
    "\n",
    "Please refer to the [FAQ](#FAQ) below. If you cannot find an answer there please feel free to create an [issue](https://github.com/esgf-nimbus/getting_started/issues/new?labels=bug,getting-started).\n",
    "\n",
    "All [suggestions](https://github.com/esgf-nimbus/getting_started/issues/new?labels=suggestion,getting-started) are welcome to improve this environment."
   ]
  },
  {
   "cell_type": "markdown",
   "metadata": {},
   "source": [
    "# Table of Contents\n",
    "- [Environment Specifications](#Environment-Specifications)\n",
    "- [JupyterLab and Conda](#JupyterLab-and-Conda)\n",
    "- [Resources](#Resources)\n",
    "  - [Documentation](#Documentation)\n",
    "  - [Videos](#Videos)\n",
    "  - [Notebooks](#Notebooks)\n",
    "- [FAQ](#FAQ)"
   ]
  },
  {
   "cell_type": "markdown",
   "metadata": {},
   "source": [
    "# Environment Specifications\n",
    "\n",
    "* 16 CPUs\n",
    "* 32 GB of memory\n",
    "* Storage\n",
    "  * User (/home/jovyan) 10 GB\n",
    "  * Shared (/scratch) 100 GB\n",
    "* ESGF Data\n",
    "  * GPFS mounts `css03` and `user_pub` at `/p`\n",
    "  * Shortcuts can be found in `/data`"
   ]
  },
  {
   "cell_type": "markdown",
   "metadata": {},
   "source": [
    "# JupyterLab and Conda\n",
    "\n",
    "Below you will find the steps to create new conda [environments](https://docs.conda.io/projects/conda/en/latest/user-guide/tasks/manage-environments.html).\n",
    "\n",
    "1. Open terminal.\n",
    "2. `conda init bash; . ~/.bashrc`\n",
    "2. `conda create -n <name> ... <channels> ... <packages> ipykernel`\n",
    "  * You must include the **ipykernel** package.\n",
    "3. `conda activate <name>`\n",
    "4. `python -m ipykernel install --user --name <name>`\n",
    "\n",
    "You use the new kernel from the \"Launcher\" or new notebooks. It will not show up in notebooks that are currently opened. If you close and open the notebook it will become selectable."
   ]
  },
  {
   "cell_type": "markdown",
   "metadata": {},
   "source": [
    "# Resources\n",
    "\n",
    "## Documentation\n",
    "- [JupyterLab](https://jupyterlab.readthedocs.io/en/stable/user/interface.html#the-jupyterlab-interface)\n",
    "- [Jupyter Notebook](https://jupyter-notebook.readthedocs.io/en/stable/notebook.html#notebook-user-interface)\n",
    "\n",
    "## Videos\n",
    "- [Getting Started with JupyterLab](https://www.youtube.com/watch?v=RFabWieskak)\n",
    "- [Jupyter Notebook Tutorial](https://www.youtube.com/watch?v=HW29067qVWk)\n",
    "\n",
    "## Notebooks\n",
    "- [Zarr Simple](https://github.com/esgf-compute/getting_started/blob/master/examples/zarr_simple.ipynb)\n",
    "- [Regridding Comparison](https://github.com/esgf-compute/getting_started/blob/master/examples/regridding_comparison.ipynb)"
   ]
  },
  {
   "cell_type": "markdown",
   "metadata": {},
   "source": [
    "# FAQ\n",
    "\n",
    "* Terminal is not **sourcing** `~/.bashrc`.\n",
    "    > The terminal is an interactive login shell and only sources `~/.bash_profile`\n",
    "* I created a **conda environment** but I cannot select it as a **kernel** in my notebook.\n",
    "    > This is a side effect of conda and jupyter notebooks. See [JupyterLab And Conda](#JupyterLab-and-Conda) for instructions to get Notebooks to recognize conda environments.\n",
    "\n",
    "    > If you've already followed the [JupyterLab and Conda](#JupyterLab-and-Conda) instructions you may need to refresh the browser.\n",
    "* `conda activate <environment>` produces the following **error**:\n",
    "    ```shell\n",
    "    CommandNotFoundError: Your shell has not been properly configured to use 'conda activate'.\n",
    "    To initialize your shell, run\n",
    "\n",
    "        $ conda init <SHELL_NAME>\n",
    "\n",
    "    Currently supported shells are:\n",
    "      - bash\n",
    "      - fish\n",
    "      - tcsh\n",
    "      - xonsh\n",
    "      - zsh\n",
    "      - powershell\n",
    "\n",
    "    See 'conda init --help' for more information and options.\n",
    "\n",
    "    IMPORTANT: You may need to close and restart your shell after running 'conda init'.\n",
    "    ```\n",
    "    > The terminal is an interactive login shell, after running `conda init bash` you'll need to source `~/.bashrc` in your `~/.bash_profile`.\n",
    "* My conda environments disappear between sessions.\n",
    "    > Check your `~/.condarc` it should containt the following:\n",
    "    ```yaml\n",
    "    envs_dirs:\n",
    "      - /home/jovyan/conda-envs\n",
    "    ```\n",
    "    > If this is not present then your conda environments will not be persisted.\n",
    "* I have an issue and didn't find an answer here.\n",
    "    > Feel free to report the [issue](https://github.com/esgf-nimbus/getting_started/issues/new?labels=bug,getting-started).\n",
    "* I have an idea to make this experience better!\n",
    "    > Please make a suggestion [here](https://github.com/esgf-nimbus/getting_started/issues/new?labels=suggestion,getting-started)."
   ]
  },
  {
   "cell_type": "code",
   "execution_count": null,
   "metadata": {},
   "outputs": [],
   "source": []
  }
 ],
 "metadata": {
  "kernelspec": {
   "display_name": "Python 3",
   "language": "python",
   "name": "python3"
  },
  "language_info": {
   "codemirror_mode": {
    "name": "ipython",
    "version": 3
   },
   "file_extension": ".py",
   "mimetype": "text/x-python",
   "name": "python",
   "nbconvert_exporter": "python",
   "pygments_lexer": "ipython3",
   "version": "3.8.8"
  }
 },
 "nbformat": 4,
 "nbformat_minor": 4
}
